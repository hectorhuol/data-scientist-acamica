{
 "cells": [
  {
   "cell_type": "code",
   "execution_count": 18,
   "metadata": {},
   "outputs": [
    {
     "name": "stderr",
     "output_type": "stream",
     "text": [
      "[nltk_data] Downloading package punkt to\n",
      "[nltk_data]     C:\\Users\\hector.hurtado\\AppData\\Roaming\\nltk_data...\n",
      "[nltk_data]   Package punkt is already up-to-date!\n"
     ]
    },
    {
     "data": {
      "text/plain": [
       "['No',\n",
       " 'temáis',\n",
       " 'a',\n",
       " 'la',\n",
       " 'grandeza',\n",
       " ';',\n",
       " 'algunos',\n",
       " 'nacen',\n",
       " 'grandes',\n",
       " ',',\n",
       " 'algunos',\n",
       " 'logran',\n",
       " 'grandeza',\n",
       " ',',\n",
       " 'a',\n",
       " 'algunos',\n",
       " 'la',\n",
       " 'grandeza',\n",
       " 'les',\n",
       " 'es',\n",
       " 'impuesta',\n",
       " 'y',\n",
       " 'a',\n",
       " 'otros',\n",
       " 'la',\n",
       " 'grandeza',\n",
       " 'les',\n",
       " 'queda',\n",
       " 'grande',\n",
       " '.']"
      ]
     },
     "execution_count": 18,
     "metadata": {},
     "output_type": "execute_result"
    }
   ],
   "source": [
    "# 1) Tokenizar el siguiente texto por palabras, \n",
    "# tomando también los signos de puntuación \n",
    "import nltk\n",
    "nltk.download('punkt')\n",
    "from nltk.tokenize import RegexpTokenizer\n",
    "s = '''\n",
    "     No temáis a la grandeza; \n",
    "     algunos nacen grandes, algunos \n",
    "     logran grandeza, a algunos la \n",
    "     grandeza les es impuesta y a \n",
    "     otros la grandeza les queda grande.\n",
    "'''\n",
    "tokenizer = RegexpTokenizer('\\w+|\\$[\\d\\.]+|\\S+')\n",
    "tokenizer.tokenize(s)"
   ]
  },
  {
   "cell_type": "code",
   "execution_count": 19,
   "metadata": {},
   "outputs": [
    {
     "data": {
      "text/plain": [
       "['no',\n",
       " 'temáis',\n",
       " 'a',\n",
       " 'la',\n",
       " 'grandeza',\n",
       " ';',\n",
       " 'algunos',\n",
       " 'nacen',\n",
       " 'grandes',\n",
       " ',',\n",
       " 'algunos',\n",
       " 'logran',\n",
       " 'grandeza',\n",
       " ',',\n",
       " 'a',\n",
       " 'algunos',\n",
       " 'la',\n",
       " 'grandeza',\n",
       " 'les',\n",
       " 'es',\n",
       " 'impuesta',\n",
       " 'y',\n",
       " 'a',\n",
       " 'otros',\n",
       " 'la',\n",
       " 'grandeza',\n",
       " 'les',\n",
       " 'queda',\n",
       " 'grande',\n",
       " '.']"
      ]
     },
     "execution_count": 19,
     "metadata": {},
     "output_type": "execute_result"
    }
   ],
   "source": [
    "# 2) Tokenizar de la misma forma, pero esta vez normalizando los tokens\n",
    "# llevándolos a minúscula\n",
    "from nltk.tokenize import RegexpTokenizer\n",
    "\n",
    "tokenizer = RegexpTokenizer('\\w+|\\$[\\d\\.]+|\\S+')\n",
    "[w.lower() for w in tokenizer.tokenize(s)]"
   ]
  },
  {
   "cell_type": "code",
   "execution_count": 20,
   "metadata": {},
   "outputs": [
    {
     "data": {
      "text/plain": [
       "['no',\n",
       " 'temáis',\n",
       " 'a',\n",
       " 'la',\n",
       " 'grandeza',\n",
       " 'algunos',\n",
       " 'nacen',\n",
       " 'grandes',\n",
       " 'algunos',\n",
       " 'logran',\n",
       " 'grandeza',\n",
       " 'a',\n",
       " 'algunos',\n",
       " 'la',\n",
       " 'grandeza',\n",
       " 'les',\n",
       " 'es',\n",
       " 'impuesta',\n",
       " 'y',\n",
       " 'a',\n",
       " 'otros',\n",
       " 'la',\n",
       " 'grandeza',\n",
       " 'les',\n",
       " 'queda',\n",
       " 'grande']"
      ]
     },
     "execution_count": 20,
     "metadata": {},
     "output_type": "execute_result"
    }
   ],
   "source": [
    "# 3) Esta vez, tokenizá el texto pero sin los signos de puntuación\n",
    "from nltk.tokenize import RegexpTokenizer\n",
    "tokenizer = RegexpTokenizer(r'\\w+')\n",
    "[w.lower() for w in tokenizer.tokenize(s)]"
   ]
  },
  {
   "cell_type": "code",
   "execution_count": 21,
   "metadata": {},
   "outputs": [
    {
     "data": {
      "text/plain": [
       "['\\n     No temáis a la grandeza; \\n     algunos nacen grandes, algunos \\n     logran grandeza, a algunos la \\n     grandeza les es impuesta y a \\n     otros la grandeza les queda grande.']"
      ]
     },
     "execution_count": 21,
     "metadata": {},
     "output_type": "execute_result"
    }
   ],
   "source": [
    "# 4) Ahora dividir el texto en oraciones\n",
    "from nltk import sent_tokenize\n",
    "\n",
    "sent_tokenize(s)"
   ]
  },
  {
   "cell_type": "code",
   "execution_count": 22,
   "metadata": {},
   "outputs": [
    {
     "data": {
      "text/plain": [
       "['Lluvia',\n",
       " 'de',\n",
       " 'emoticoness',\n",
       " '#dummysmiley',\n",
       " ':',\n",
       " ':-)',\n",
       " ':-P',\n",
       " '<3',\n",
       " '<',\n",
       " '>',\n",
       " '->',\n",
       " '<--']"
      ]
     },
     "execution_count": 22,
     "metadata": {},
     "output_type": "execute_result"
    }
   ],
   "source": [
    "# 5) Probá ahora aplicar el siguiente tokenizador al siguiente tweet.\n",
    "from nltk.tokenize import TweetTokenizer\n",
    "tokenizer = TweetTokenizer()\n",
    "s = \"Lluvia de emoticoness #dummysmiley: :-) :-P <3 < > -> <--\"\n",
    "tokenizer.tokenize(s)"
   ]
  },
  {
   "cell_type": "markdown",
   "metadata": {},
   "source": [
    "Conocé más sobre tokenizadores en la documentación de NLTK\n",
    "https://www.nltk.org/api/nltk.tokenize.html"
   ]
  }
 ],
 "metadata": {
  "kernelspec": {
   "display_name": "Python 3",
   "language": "python",
   "name": "python3"
  },
  "language_info": {
   "codemirror_mode": {
    "name": "ipython",
    "version": 3
   },
   "file_extension": ".py",
   "mimetype": "text/x-python",
   "name": "python",
   "nbconvert_exporter": "python",
   "pygments_lexer": "ipython3",
   "version": "3.7.2"
  }
 },
 "nbformat": 4,
 "nbformat_minor": 2
}
